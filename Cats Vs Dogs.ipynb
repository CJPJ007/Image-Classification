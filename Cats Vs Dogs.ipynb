{
 "cells": [
  {
   "cell_type": "code",
   "execution_count": 8,
   "metadata": {},
   "outputs": [],
   "source": [
    "import os, shutil\n",
    "original_dataset_dir = 'kaggle_original_data'\n",
    "base_dir = 'cats_and_dogs_small'\n",
    "#os.mkdir(base_dir)\n",
    "train_dir = os.path.join(base_dir, 'train')\n",
    "#os.mkdir(train_dir)\n",
    "validation_dir = os.path.join(base_dir, 'validation')\n",
    "#os.mkdir(validation_dir)\n",
    "test_dir = os.path.join(base_dir, 'test')\n",
    "#os.mkdir(test_dir)\n",
    "train_cats_dir = os.path.join(train_dir, 'cats')\n",
    "#os.mkdir(train_cats_dir)\n",
    "train_dogs_dir = os.path.join(train_dir, 'dogs')\n",
    "#os.mkdir(train_dogs_dir)\n",
    "validation_cats_dir = os.path.join(validation_dir, 'cats')\n",
    "#os.mkdir(validation_cats_dir)\n",
    "validation_dogs_dir = os.path.join(validation_dir, 'dogs')\n",
    "#os.mkdir(validation_dogs_dir)\n",
    "test_cats_dir = os.path.join(test_dir, 'cats')\n",
    "#os.mkdir(test_cats_dir)\n",
    "test_dogs_dir = os.path.join(test_dir, 'dogs')\n",
    "#os.mkdir(test_dogs_dir)\n",
    "fnames = ['cat.{}.jpg'.format(i) for i in range(1000)]\n",
    "for fname in fnames:\n",
    "    src = os.path.join(original_dataset_dir, fname)\n",
    "    dst = os.path.join(train_cats_dir, fname)\n",
    "    shutil.copyfile(src, dst)\n",
    "fnames = ['cat.{}.jpg'.format(i) for i in range(1000, 1500)]\n",
    "for fname in fnames:\n",
    "    src = os.path.join(original_dataset_dir, fname)\n",
    "    dst = os.path.join(validation_cats_dir, fname)\n",
    "    shutil.copyfile(src, dst)\n",
    "fnames = ['cat.{}.jpg'.format(i) for i in range(1500, 2000)]\n",
    "for fname in fnames:\n",
    "    src = os.path.join(original_dataset_dir, fname)\n",
    "    dst = os.path.join(test_cats_dir, fname)\n",
    "    shutil.copyfile(src, dst)\n",
    "fnames = ['dog.{}.jpg'.format(i) for i in range(1000)]\n",
    "for fname in fnames:\n",
    "    src = os.path.join(original_dataset_dir, fname)\n",
    "    dst = os.path.join(train_dogs_dir, fname)\n",
    "    shutil.copyfile(src, dst)\n",
    "fnames = ['dog.{}.jpg'.format(i) for i in range(1000, 1500)]\n",
    "for fname in fnames:\n",
    "    src = os.path.join(original_dataset_dir, fname)\n",
    "    dst = os.path.join(validation_dogs_dir, fname)\n",
    "    shutil.copyfile(src, dst)\n",
    "fnames = ['dog.{}.jpg'.format(i) for i in range(1500, 2000)]\n",
    "for fname in fnames:\n",
    "    src = os.path.join(original_dataset_dir, fname)\n",
    "    dst = os.path.join(test_dogs_dir, fname)\n",
    "    shutil.copyfile(src, dst)"
   ]
  },
  {
   "cell_type": "code",
   "execution_count": 9,
   "metadata": {},
   "outputs": [
    {
     "name": "stdout",
     "output_type": "stream",
     "text": [
      "1000\n"
     ]
    }
   ],
   "source": [
    "print(len(os.listdir(train_cats_dir)))"
   ]
  },
  {
   "cell_type": "code",
   "execution_count": 1,
   "metadata": {},
   "outputs": [
    {
     "name": "stderr",
     "output_type": "stream",
     "text": [
      "Using TensorFlow backend.\n"
     ]
    }
   ],
   "source": [
    "from keras.layers import Conv2D,Flatten,Dense,MaxPooling2D,Dropout\n",
    "from keras.models import Sequential"
   ]
  },
  {
   "cell_type": "code",
   "execution_count": 2,
   "metadata": {},
   "outputs": [],
   "source": [
    "from tensorflow.keras.applications.resnet50 import preprocess_input\n",
    "from tensorflow.keras.preprocessing.image import ImageDataGenerator"
   ]
  },
  {
   "cell_type": "code",
   "execution_count": 14,
   "metadata": {},
   "outputs": [],
   "source": [
    "data_generator=ImageDataGenerator(preprocessing_function=preprocess_input)"
   ]
  },
  {
   "cell_type": "code",
   "execution_count": 46,
   "metadata": {},
   "outputs": [
    {
     "name": "stdout",
     "output_type": "stream",
     "text": [
      "Found 2000 images belonging to 2 classes.\n",
      "Found 1000 images belonging to 2 classes.\n",
      "Found 1000 images belonging to 2 classes.\n"
     ]
    }
   ],
   "source": [
    "train_generator=data_generator.flow_from_directory(train_dir,batch_size=20,target_size=(150,150),class_mode='binary')\n",
    "test_generator=data_generator.flow_from_directory(test_dir,target_size=(150,150),class_mode='binary')\n",
    "val_generator=data_generator.flow_from_directory(validation_dir,batch_size=20,target_size=(150,150),class_mode='binary')"
   ]
  },
  {
   "cell_type": "code",
   "execution_count": 48,
   "metadata": {},
   "outputs": [],
   "source": [
    "model=Sequential()\n",
    "model.add(Conv2D(128,kernel_size=(3,3),activation='relu',input_shape=(150,150,3)))\n",
    "model.add(MaxPooling2D())\n",
    "model.add(Dropout(0.5))\n",
    "model.add(Conv2D(64,kernel_size=(3,3),activation='relu'))\n",
    "model.add(MaxPooling2D())\n",
    "model.add(Dropout(0.5))\n",
    "model.add(Conv2D(32,kernel_size=(3,3),activation='relu'))\n",
    "model.add(MaxPooling2D())\n",
    "model.add(Dropout(0.5))\n",
    "model.add(Flatten())\n",
    "model.add(Dense(128,activation='relu'))\n",
    "model.add(Dense(1,activation='sigmoid'))"
   ]
  },
  {
   "cell_type": "code",
   "execution_count": 49,
   "metadata": {},
   "outputs": [
    {
     "name": "stdout",
     "output_type": "stream",
     "text": [
      "Model: \"sequential_7\"\n",
      "_________________________________________________________________\n",
      "Layer (type)                 Output Shape              Param #   \n",
      "=================================================================\n",
      "conv2d_14 (Conv2D)           (None, 148, 148, 128)     3584      \n",
      "_________________________________________________________________\n",
      "max_pooling2d_13 (MaxPooling (None, 74, 74, 128)       0         \n",
      "_________________________________________________________________\n",
      "dropout_13 (Dropout)         (None, 74, 74, 128)       0         \n",
      "_________________________________________________________________\n",
      "conv2d_15 (Conv2D)           (None, 72, 72, 64)        73792     \n",
      "_________________________________________________________________\n",
      "max_pooling2d_14 (MaxPooling (None, 36, 36, 64)        0         \n",
      "_________________________________________________________________\n",
      "dropout_14 (Dropout)         (None, 36, 36, 64)        0         \n",
      "_________________________________________________________________\n",
      "conv2d_16 (Conv2D)           (None, 34, 34, 32)        18464     \n",
      "_________________________________________________________________\n",
      "max_pooling2d_15 (MaxPooling (None, 17, 17, 32)        0         \n",
      "_________________________________________________________________\n",
      "dropout_15 (Dropout)         (None, 17, 17, 32)        0         \n",
      "_________________________________________________________________\n",
      "flatten_4 (Flatten)          (None, 9248)              0         \n",
      "_________________________________________________________________\n",
      "dense_8 (Dense)              (None, 128)               1183872   \n",
      "_________________________________________________________________\n",
      "dense_9 (Dense)              (None, 1)                 129       \n",
      "=================================================================\n",
      "Total params: 1,279,841\n",
      "Trainable params: 1,279,841\n",
      "Non-trainable params: 0\n",
      "_________________________________________________________________\n"
     ]
    }
   ],
   "source": [
    "model.summary()"
   ]
  },
  {
   "cell_type": "code",
   "execution_count": 50,
   "metadata": {},
   "outputs": [],
   "source": [
    "model.compile(loss=\"binary_crossentropy\",optimizer=\"adam\",metrics=['accuracy'])"
   ]
  },
  {
   "cell_type": "code",
   "execution_count": 51,
   "metadata": {},
   "outputs": [
    {
     "name": "stdout",
     "output_type": "stream",
     "text": [
      "Epoch 1/30\n",
      "100/100 [==============================] - 158s 2s/step - loss: 9.1793 - accuracy: 0.5065 - val_loss: 0.6951 - val_accuracy: 0.5000\n",
      "Epoch 2/30\n",
      "100/100 [==============================] - 157s 2s/step - loss: 0.7281 - accuracy: 0.5075 - val_loss: 0.6965 - val_accuracy: 0.5010\n",
      "Epoch 3/30\n",
      "100/100 [==============================] - 153s 2s/step - loss: 0.7132 - accuracy: 0.5040 - val_loss: 0.6982 - val_accuracy: 0.5000\n",
      "Epoch 4/30\n",
      "100/100 [==============================] - 150s 1s/step - loss: 0.7052 - accuracy: 0.5175 - val_loss: 0.6888 - val_accuracy: 0.5020\n",
      "Epoch 5/30\n",
      "100/100 [==============================] - 152s 2s/step - loss: 0.6902 - accuracy: 0.5515 - val_loss: 0.6764 - val_accuracy: 0.5070\n",
      "Epoch 6/30\n",
      "100/100 [==============================] - 154s 2s/step - loss: 0.6805 - accuracy: 0.5705 - val_loss: 0.6954 - val_accuracy: 0.5580\n",
      "Epoch 7/30\n",
      "100/100 [==============================] - 152s 2s/step - loss: 0.6578 - accuracy: 0.5990 - val_loss: 0.6836 - val_accuracy: 0.5870\n",
      "Epoch 8/30\n",
      "100/100 [==============================] - 151s 2s/step - loss: 0.6472 - accuracy: 0.6005 - val_loss: 0.6687 - val_accuracy: 0.5750\n",
      "Epoch 9/30\n",
      "100/100 [==============================] - 152s 2s/step - loss: 0.6425 - accuracy: 0.6065 - val_loss: 0.6061 - val_accuracy: 0.5650\n",
      "Epoch 10/30\n",
      "100/100 [==============================] - 153s 2s/step - loss: 0.6433 - accuracy: 0.6135 - val_loss: 0.6719 - val_accuracy: 0.5930\n",
      "Epoch 11/30\n",
      "100/100 [==============================] - 157s 2s/step - loss: 0.6171 - accuracy: 0.6415 - val_loss: 0.5969 - val_accuracy: 0.5600\n",
      "Epoch 12/30\n",
      "100/100 [==============================] - 158s 2s/step - loss: 0.6249 - accuracy: 0.6330 - val_loss: 0.6323 - val_accuracy: 0.5970\n",
      "Epoch 13/30\n",
      "100/100 [==============================] - 157s 2s/step - loss: 0.6151 - accuracy: 0.6345 - val_loss: 0.6124 - val_accuracy: 0.6030\n",
      "Epoch 14/30\n",
      "100/100 [==============================] - 162s 2s/step - loss: 0.6017 - accuracy: 0.6505 - val_loss: 0.6648 - val_accuracy: 0.6080\n",
      "Epoch 15/30\n",
      "100/100 [==============================] - 160s 2s/step - loss: 0.5972 - accuracy: 0.6645 - val_loss: 0.5948 - val_accuracy: 0.5910\n",
      "Epoch 16/30\n",
      "100/100 [==============================] - 162s 2s/step - loss: 0.5991 - accuracy: 0.6540 - val_loss: 0.6462 - val_accuracy: 0.6150\n",
      "Epoch 17/30\n",
      "100/100 [==============================] - 162s 2s/step - loss: 0.5819 - accuracy: 0.6705 - val_loss: 0.7016 - val_accuracy: 0.6090\n",
      "Epoch 18/30\n",
      "100/100 [==============================] - 156s 2s/step - loss: 0.5877 - accuracy: 0.6540 - val_loss: 0.6248 - val_accuracy: 0.6160\n",
      "Epoch 19/30\n",
      "100/100 [==============================] - 165s 2s/step - loss: 0.5599 - accuracy: 0.6820 - val_loss: 0.6483 - val_accuracy: 0.6200\n",
      "Epoch 20/30\n",
      "100/100 [==============================] - 168s 2s/step - loss: 0.5701 - accuracy: 0.6690 - val_loss: 0.5916 - val_accuracy: 0.6200\n",
      "Epoch 21/30\n",
      "100/100 [==============================] - 155s 2s/step - loss: 0.5484 - accuracy: 0.7030 - val_loss: 0.4869 - val_accuracy: 0.6210\n",
      "Epoch 22/30\n",
      "100/100 [==============================] - 158s 2s/step - loss: 0.5637 - accuracy: 0.6990 - val_loss: 0.5621 - val_accuracy: 0.6000\n",
      "Epoch 23/30\n",
      "100/100 [==============================] - 157s 2s/step - loss: 0.5510 - accuracy: 0.6930 - val_loss: 0.5396 - val_accuracy: 0.6140\n",
      "Epoch 24/30\n",
      "100/100 [==============================] - 159s 2s/step - loss: 0.5385 - accuracy: 0.7190 - val_loss: 0.7364 - val_accuracy: 0.6320\n",
      "Epoch 25/30\n",
      "100/100 [==============================] - 160s 2s/step - loss: 0.5270 - accuracy: 0.7175 - val_loss: 0.5631 - val_accuracy: 0.6440\n",
      "Epoch 26/30\n",
      "100/100 [==============================] - 160s 2s/step - loss: 0.5206 - accuracy: 0.7305 - val_loss: 0.6131 - val_accuracy: 0.6540\n",
      "Epoch 27/30\n",
      "100/100 [==============================] - 160s 2s/step - loss: 0.5281 - accuracy: 0.7290 - val_loss: 0.6001 - val_accuracy: 0.6270\n",
      "Epoch 28/30\n",
      "100/100 [==============================] - 158s 2s/step - loss: 0.5109 - accuracy: 0.7455 - val_loss: 0.6575 - val_accuracy: 0.6470\n",
      "Epoch 29/30\n",
      "100/100 [==============================] - 157s 2s/step - loss: 0.5081 - accuracy: 0.7370 - val_loss: 0.5066 - val_accuracy: 0.6640\n",
      "Epoch 30/30\n",
      "100/100 [==============================] - 163s 2s/step - loss: 0.4747 - accuracy: 0.7585 - val_loss: 0.6031 - val_accuracy: 0.6610\n"
     ]
    },
    {
     "data": {
      "text/plain": [
       "<keras.callbacks.callbacks.History at 0x7f8365759490>"
      ]
     },
     "execution_count": 51,
     "metadata": {},
     "output_type": "execute_result"
    }
   ],
   "source": [
    "model.fit_generator(train_generator,steps_per_epoch=100,epochs=30,validation_data=val_generator,validation_steps=50)"
   ]
  },
  {
   "cell_type": "code",
   "execution_count": 54,
   "metadata": {},
   "outputs": [
    {
     "data": {
      "image/png": "[encoded data removed]",
      "text/plain": [
       "<Figure size 432x288 with 1 Axes>"
      ]
     },
     "metadata": {
      "needs_background": "light"
     },
     "output_type": "display_data"
    },
    {
     "data": {
      "image/png": "[encoded data removed]",
      "text/plain": [
       "<Figure size 432x288 with 1 Axes>"
      ]
     },
     "metadata": {
      "needs_background": "light"
     },
     "output_type": "display_data"
    }
   ],
   "source": [
    "import matplotlib.pyplot as plt\n",
    "acc = model.history.history['accuracy']\n",
    "val_acc = model.history.history['val_accuracy']\n",
    "loss = model.history.history['loss']\n",
    "val_loss = model.history.history['val_loss']\n",
    "epochs = range(1, len(acc) + 1)\n",
    "plt.plot(epochs, acc, 'bo', label='Training acc')\n",
    "plt.plot(epochs, val_acc, 'b', label='Validation acc')\n",
    "plt.title('Training and validation accuracy')\n",
    "plt.legend()\n",
    "plt.figure()\n",
    "plt.plot(epochs, loss, 'bo', label='Training loss')\n",
    "plt.plot(epochs, val_loss, 'b', label='Validation loss')\n",
    "plt.title('Training and validation loss')\n",
    "plt.legend()\n",
    "plt.show()"
   ]
  },
  {
   "cell_type": "code",
   "execution_count": 53,
   "metadata": {
    "collapsed": true
   },
   "outputs": [
    {
     "data": {
      "text/plain": [
       "{'val_loss': [0.6951071619987488,\n",
       "  0.6965163946151733,\n",
       "  0.6981788873672485,\n",
       "  0.688797116279602,\n",
       "  0.6763991117477417,\n",
       "  0.6953529715538025,\n",
       "  0.6835817098617554,\n",
       "  0.6686996817588806,\n",
       "  0.6061222553253174,\n",
       "  0.6719479560852051,\n",
       "  0.5969291925430298,\n",
       "  0.6323009729385376,\n",
       "  0.6124054193496704,\n",
       "  0.6648203134536743,\n",
       "  0.5948404669761658,\n",
       "  0.6461597681045532,\n",
       "  0.7016350626945496,\n",
       "  0.6247676610946655,\n",
       "  0.6483319997787476,\n",
       "  0.5915566682815552,\n",
       "  0.48691409826278687,\n",
       "  0.5620534420013428,\n",
       "  0.5395782589912415,\n",
       "  0.7363883256912231,\n",
       "  0.5631407499313354,\n",
       "  0.6131221055984497,\n",
       "  0.6000529527664185,\n",
       "  0.6575124263763428,\n",
       "  0.5066499710083008,\n",
       "  0.6030771136283875],\n",
       " 'val_accuracy': [0.5,\n",
       "  0.5009999871253967,\n",
       "  0.5,\n",
       "  0.5019999742507935,\n",
       "  0.5070000290870667,\n",
       "  0.5580000281333923,\n",
       "  0.5870000123977661,\n",
       "  0.574999988079071,\n",
       "  0.5649999976158142,\n",
       "  0.5929999947547913,\n",
       "  0.5600000023841858,\n",
       "  0.597000002861023,\n",
       "  0.6029999852180481,\n",
       "  0.6079999804496765,\n",
       "  0.5910000205039978,\n",
       "  0.6150000095367432,\n",
       "  0.609000027179718,\n",
       "  0.6159999966621399,\n",
       "  0.6200000047683716,\n",
       "  0.6200000047683716,\n",
       "  0.6209999918937683,\n",
       "  0.6000000238418579,\n",
       "  0.6140000224113464,\n",
       "  0.6320000290870667,\n",
       "  0.6439999938011169,\n",
       "  0.6539999842643738,\n",
       "  0.6269999742507935,\n",
       "  0.6470000147819519,\n",
       "  0.6639999747276306,\n",
       "  0.6610000133514404],\n",
       " 'loss': [9.17927098274231,\n",
       "  0.7281203919649124,\n",
       "  0.7131993782520294,\n",
       "  0.705237717628479,\n",
       "  0.690226618051529,\n",
       "  0.6804758268594742,\n",
       "  0.6578133970499038,\n",
       "  0.6471520355343818,\n",
       "  0.6424531197547912,\n",
       "  0.6433495128154755,\n",
       "  0.6170630446076393,\n",
       "  0.624949080646038,\n",
       "  0.615093594789505,\n",
       "  0.6017365011572838,\n",
       "  0.5972308498620987,\n",
       "  0.599113242328167,\n",
       "  0.5818821480870247,\n",
       "  0.5877159309387207,\n",
       "  0.5599150690436363,\n",
       "  0.5701265746355056,\n",
       "  0.5484242498874664,\n",
       "  0.5637055769562721,\n",
       "  0.5510032162070274,\n",
       "  0.5384670284390449,\n",
       "  0.5270371955633163,\n",
       "  0.5205653244256974,\n",
       "  0.5281488883495331,\n",
       "  0.5109457814693451,\n",
       "  0.5080804508924485,\n",
       "  0.4746936346590519],\n",
       " 'accuracy': [0.5065,\n",
       "  0.5075,\n",
       "  0.504,\n",
       "  0.5175,\n",
       "  0.5515,\n",
       "  0.5705,\n",
       "  0.599,\n",
       "  0.6005,\n",
       "  0.6065,\n",
       "  0.6135,\n",
       "  0.6415,\n",
       "  0.633,\n",
       "  0.6345,\n",
       "  0.6505,\n",
       "  0.6645,\n",
       "  0.654,\n",
       "  0.6705,\n",
       "  0.654,\n",
       "  0.682,\n",
       "  0.669,\n",
       "  0.703,\n",
       "  0.699,\n",
       "  0.693,\n",
       "  0.719,\n",
       "  0.7175,\n",
       "  0.7305,\n",
       "  0.729,\n",
       "  0.7455,\n",
       "  0.737,\n",
       "  0.7585]}"
      ]
     },
     "execution_count": 53,
     "metadata": {},
     "output_type": "execute_result"
    }
   ],
   "source": [
    "model.history.history"
   ]
  },
  {
   "cell_type": "code",
   "execution_count": 3,
   "metadata": {},
   "outputs": [],
   "source": [
    "from keras.applications import VGG16\n",
    "import numpy as np"
   ]
  },
  {
   "cell_type": "code",
   "execution_count": 4,
   "metadata": {},
   "outputs": [],
   "source": [
    "conv_base=VGG16(weights='imagenet',include_top=False,input_shape=(150,150,3))"
   ]
  },
  {
   "cell_type": "code",
   "execution_count": 73,
   "metadata": {},
   "outputs": [
    {
     "name": "stdout",
     "output_type": "stream",
     "text": [
      "Found 2000 images belonging to 2 classes.\n",
      "Found 1000 images belonging to 2 classes.\n",
      "Found 1000 images belonging to 2 classes.\n"
     ]
    }
   ],
   "source": [
    "datagen=ImageDataGenerator(preprocessing_function=preprocess_input)\n",
    "batch_size=20\n",
    "def extract_features(directory,sample_count):\n",
    "    features=np.zeros((sample_count,4,4,512))\n",
    "    labels=np.zeros((sample_count))\n",
    "    generator = datagen.flow_from_directory(\n",
    "    directory,target_size=(150, 150),batch_size=batch_size,class_mode='binary')\n",
    "    i = 0\n",
    "    for inputs_batch, labels_batch in generator:\n",
    "        features_batch = conv_base.predict(inputs_batch)\n",
    "        features[i * batch_size : (i + 1) * batch_size] = features_batch\n",
    "        labels[i * batch_size : (i + 1) * batch_size] = labels_batch\n",
    "        i += 1\n",
    "        if i * batch_size >= sample_count:\n",
    "            break\n",
    "    return features, labels\n",
    "train_features, train_labels = extract_features(train_dir, 2000)\n",
    "validation_features, validation_labels = extract_features(validation_dir, 1000)\n",
    "test_features, test_labels = extract_features(test_dir, 1000)"
   ]
  },
  {
   "cell_type": "code",
   "execution_count": 93,
   "metadata": {},
   "outputs": [
    {
     "data": {
      "text/plain": [
       "(2000, 8192)"
      ]
     },
     "execution_count": 93,
     "metadata": {},
     "output_type": "execute_result"
    }
   ],
   "source": [
    "x=train_features.reshape((2000,4*4*512))\n",
    "x_val=validation_features.reshape((1000,4*4*512))\n",
    "test_features.reshape((1000,4*4*512))\n",
    "train_features.shape"
   ]
  },
  {
   "cell_type": "code",
   "execution_count": 86,
   "metadata": {},
   "outputs": [],
   "source": [
    "model=Sequential()\n",
    "model.add(Dense(256,activation='relu',input_dim=4*4*512))\n",
    "model.add(Dropout(0.5))\n",
    "model.add(Dense(1,activation='sigmoid'))"
   ]
  },
  {
   "cell_type": "code",
   "execution_count": 87,
   "metadata": {},
   "outputs": [
    {
     "name": "stdout",
     "output_type": "stream",
     "text": [
      "Model: \"sequential_12\"\n",
      "_________________________________________________________________\n",
      "Layer (type)                 Output Shape              Param #   \n",
      "=================================================================\n",
      "dense_17 (Dense)             (None, 256)               2097408   \n",
      "_________________________________________________________________\n",
      "dropout_19 (Dropout)         (None, 256)               0         \n",
      "_________________________________________________________________\n",
      "dense_18 (Dense)             (None, 1)                 257       \n",
      "=================================================================\n",
      "Total params: 2,097,665\n",
      "Trainable params: 2,097,665\n",
      "Non-trainable params: 0\n",
      "_________________________________________________________________\n"
     ]
    }
   ],
   "source": [
    "model.summary()"
   ]
  },
  {
   "cell_type": "code",
   "execution_count": 88,
   "metadata": {},
   "outputs": [],
   "source": [
    "model.compile(loss=\"binary_crossentropy\",optimizer='rmsprop',metrics=['accuracy'])"
   ]
  },
  {
   "cell_type": "code",
   "execution_count": 94,
   "metadata": {},
   "outputs": [
    {
     "name": "stdout",
     "output_type": "stream",
     "text": [
      "Train on 2000 samples, validate on 1000 samples\n",
      "Epoch 1/20\n",
      "2000/2000 [==============================] - 5s 2ms/step - loss: 4.5543 - accuracy: 0.9165 - val_loss: 3.8821 - val_accuracy: 0.9120\n",
      "Epoch 2/20\n",
      "2000/2000 [==============================] - 3s 2ms/step - loss: 1.3723 - accuracy: 0.9550 - val_loss: 0.5930 - val_accuracy: 0.9720\n",
      "Epoch 3/20\n",
      "2000/2000 [==============================] - 3s 2ms/step - loss: 0.6977 - accuracy: 0.9685 - val_loss: 0.7384 - val_accuracy: 0.9690\n",
      "Epoch 4/20\n",
      "2000/2000 [==============================] - 3s 2ms/step - loss: 0.3638 - accuracy: 0.9825 - val_loss: 0.7450 - val_accuracy: 0.9610\n",
      "Epoch 5/20\n",
      "2000/2000 [==============================] - 3s 2ms/step - loss: 0.2796 - accuracy: 0.9845 - val_loss: 0.6949 - val_accuracy: 0.9670\n",
      "Epoch 6/20\n",
      "2000/2000 [==============================] - 3s 2ms/step - loss: 0.0969 - accuracy: 0.9910 - val_loss: 1.0230 - val_accuracy: 0.9630\n",
      "Epoch 7/20\n",
      "2000/2000 [==============================] - 3s 2ms/step - loss: 0.2276 - accuracy: 0.9900 - val_loss: 0.8928 - val_accuracy: 0.9580\n",
      "Epoch 8/20\n",
      "2000/2000 [==============================] - 3s 2ms/step - loss: 0.2246 - accuracy: 0.9905 - val_loss: 0.6871 - val_accuracy: 0.9700\n",
      "Epoch 9/20\n",
      "2000/2000 [==============================] - 3s 2ms/step - loss: 0.1761 - accuracy: 0.9890 - val_loss: 0.8190 - val_accuracy: 0.9670\n",
      "Epoch 10/20\n",
      "2000/2000 [==============================] - 3s 2ms/step - loss: 0.1089 - accuracy: 0.9935 - val_loss: 0.8887 - val_accuracy: 0.9630\n",
      "Epoch 11/20\n",
      "2000/2000 [==============================] - 3s 2ms/step - loss: 0.0411 - accuracy: 0.9980 - val_loss: 1.0072 - val_accuracy: 0.9640\n",
      "Epoch 12/20\n",
      "2000/2000 [==============================] - 3s 2ms/step - loss: 0.0661 - accuracy: 0.9960 - val_loss: 1.1323 - val_accuracy: 0.9600\n",
      "Epoch 13/20\n",
      "2000/2000 [==============================] - 3s 2ms/step - loss: 0.0841 - accuracy: 0.9955 - val_loss: 0.9848 - val_accuracy: 0.9690\n",
      "Epoch 14/20\n",
      "2000/2000 [==============================] - 4s 2ms/step - loss: 0.0801 - accuracy: 0.9945 - val_loss: 0.9926 - val_accuracy: 0.9730\n",
      "Epoch 15/20\n",
      "2000/2000 [==============================] - 3s 2ms/step - loss: 0.0883 - accuracy: 0.9965 - val_loss: 0.9518 - val_accuracy: 0.9720\n",
      "Epoch 16/20\n",
      "2000/2000 [==============================] - 3s 2ms/step - loss: 0.0850 - accuracy: 0.9970 - val_loss: 0.8469 - val_accuracy: 0.9710\n",
      "Epoch 17/20\n",
      "2000/2000 [==============================] - 3s 2ms/step - loss: 0.0551 - accuracy: 0.9955 - val_loss: 0.9092 - val_accuracy: 0.9680\n",
      "Epoch 18/20\n",
      "2000/2000 [==============================] - 3s 2ms/step - loss: 0.0551 - accuracy: 0.9945 - val_loss: 1.2904 - val_accuracy: 0.9590\n",
      "Epoch 19/20\n",
      "2000/2000 [==============================] - 4s 2ms/step - loss: 0.0359 - accuracy: 0.9990 - val_loss: 1.0618 - val_accuracy: 0.9680\n",
      "Epoch 20/20\n",
      "2000/2000 [==============================] - 3s 2ms/step - loss: 0.0346 - accuracy: 0.9990 - val_loss: 1.2363 - val_accuracy: 0.9630\n"
     ]
    },
    {
     "data": {
      "text/plain": [
       "<keras.callbacks.callbacks.History at 0x7f8330265b90>"
      ]
     },
     "execution_count": 94,
     "metadata": {},
     "output_type": "execute_result"
    }
   ],
   "source": [
    "model.fit(x,train_labels,batch_size=20,epochs=20,validation_data=(x_val,validation_labels))"
   ]
  },
  {
   "cell_type": "code",
   "execution_count": 95,
   "metadata": {},
   "outputs": [
    {
     "data": {
      "image/png": "[encoded data removed]",
      "text/plain": [
       "<Figure size 432x288 with 1 Axes>"
      ]
     },
     "metadata": {
      "needs_background": "light"
     },
     "output_type": "display_data"
    },
    {
     "data": {
      "image/png": "[encoded data removed]",
      "text/plain": [
       "<Figure size 432x288 with 1 Axes>"
      ]
     },
     "metadata": {
      "needs_background": "light"
     },
     "output_type": "display_data"
    }
   ],
   "source": [
    "import matplotlib.pyplot as plt\n",
    "acc = model.history.history['accuracy']\n",
    "val_acc = model.history.history['val_accuracy']\n",
    "loss = model.history.history['loss']\n",
    "val_loss = model.history.history['val_loss']\n",
    "epochs = range(1, len(acc) + 1)\n",
    "plt.plot(epochs, acc, 'bo', label='Training acc')\n",
    "plt.plot(epochs, val_acc, 'b', label='Validation acc')\n",
    "plt.title('Training and validation accuracy')\n",
    "plt.legend()\n",
    "plt.figure()\n",
    "plt.plot(epochs, loss, 'bo', label='Training loss')\n",
    "plt.plot(epochs, val_loss, 'b', label='Validation loss')\n",
    "plt.title('Training and validation loss')\n",
    "plt.legend()\n",
    "plt.show()"
   ]
  },
  {
   "cell_type": "code",
   "execution_count": 96,
   "metadata": {},
   "outputs": [
    {
     "name": "stdout",
     "output_type": "stream",
     "text": [
      "Model: \"vgg16\"\n",
      "_________________________________________________________________\n",
      "Layer (type)                 Output Shape              Param #   \n",
      "=================================================================\n",
      "input_6 (InputLayer)         (None, 150, 150, 3)       0         \n",
      "_________________________________________________________________\n",
      "block1_conv1 (Conv2D)        (None, 150, 150, 64)      1792      \n",
      "_________________________________________________________________\n",
      "block1_conv2 (Conv2D)        (None, 150, 150, 64)      36928     \n",
      "_________________________________________________________________\n",
      "block1_pool (MaxPooling2D)   (None, 75, 75, 64)        0         \n",
      "_________________________________________________________________\n",
      "block2_conv1 (Conv2D)        (None, 75, 75, 128)       73856     \n",
      "_________________________________________________________________\n",
      "block2_conv2 (Conv2D)        (None, 75, 75, 128)       147584    \n",
      "_________________________________________________________________\n",
      "block2_pool (MaxPooling2D)   (None, 37, 37, 128)       0         \n",
      "_________________________________________________________________\n",
      "block3_conv1 (Conv2D)        (None, 37, 37, 256)       295168    \n",
      "_________________________________________________________________\n",
      "block3_conv2 (Conv2D)        (None, 37, 37, 256)       590080    \n",
      "_________________________________________________________________\n",
      "block3_conv3 (Conv2D)        (None, 37, 37, 256)       590080    \n",
      "_________________________________________________________________\n",
      "block3_pool (MaxPooling2D)   (None, 18, 18, 256)       0         \n",
      "_________________________________________________________________\n",
      "block4_conv1 (Conv2D)        (None, 18, 18, 512)       1180160   \n",
      "_________________________________________________________________\n",
      "block4_conv2 (Conv2D)        (None, 18, 18, 512)       2359808   \n",
      "_________________________________________________________________\n",
      "block4_conv3 (Conv2D)        (None, 18, 18, 512)       2359808   \n",
      "_________________________________________________________________\n",
      "block4_pool (MaxPooling2D)   (None, 9, 9, 512)         0         \n",
      "_________________________________________________________________\n",
      "block5_conv1 (Conv2D)        (None, 9, 9, 512)         2359808   \n",
      "_________________________________________________________________\n",
      "block5_conv2 (Conv2D)        (None, 9, 9, 512)         2359808   \n",
      "_________________________________________________________________\n",
      "block5_conv3 (Conv2D)        (None, 9, 9, 512)         2359808   \n",
      "_________________________________________________________________\n",
      "block5_pool (MaxPooling2D)   (None, 4, 4, 512)         0         \n",
      "=================================================================\n",
      "Total params: 14,714,688\n",
      "Trainable params: 14,714,688\n",
      "Non-trainable params: 0\n",
      "_________________________________________________________________\n"
     ]
    }
   ],
   "source": [
    "conv_base.summary()"
   ]
  },
  {
   "cell_type": "code",
   "execution_count": 5,
   "metadata": {},
   "outputs": [
    {
     "name": "stdout",
     "output_type": "stream",
     "text": [
      "Model: \"sequential_1\"\n",
      "_________________________________________________________________\n",
      "Layer (type)                 Output Shape              Param #   \n",
      "=================================================================\n",
      "vgg16 (Model)                (None, 4, 4, 512)         14714688  \n",
      "_________________________________________________________________\n",
      "flatten_1 (Flatten)          (None, 8192)              0         \n",
      "_________________________________________________________________\n",
      "dense_1 (Dense)              (None, 256)               2097408   \n",
      "_________________________________________________________________\n",
      "dense_2 (Dense)              (None, 1)                 257       \n",
      "=================================================================\n",
      "Total params: 16,812,353\n",
      "Trainable params: 2,097,665\n",
      "Non-trainable params: 14,714,688\n",
      "_________________________________________________________________\n"
     ]
    }
   ],
   "source": [
    "model=Sequential()\n",
    "model.add(conv_base)\n",
    "model.add(Flatten())\n",
    "model.add(Dense(256,activation='relu'))\n",
    "model.add(Dense(1,activation='sigmoid'))\n",
    "conv_base.trainable=False\n",
    "model.summary()"
   ]
  },
  {
   "cell_type": "code",
   "execution_count": 10,
   "metadata": {},
   "outputs": [
    {
     "name": "stdout",
     "output_type": "stream",
     "text": [
      "Found 2000 images belonging to 2 classes.\n",
      "Found 1000 images belonging to 2 classes.\n",
      "Epoch 1/20\n",
      "100/100 [==============================] - 357s 4s/step - loss: 2.3936 - accuracy: 0.7485 - val_loss: 1.2280 - val_accuracy: 0.9100\n",
      "Epoch 2/20\n",
      "100/100 [==============================] - 381s 4s/step - loss: 0.9064 - accuracy: 0.8710 - val_loss: 0.9790 - val_accuracy: 0.9330\n",
      "Epoch 3/20\n",
      "100/100 [==============================] - 367s 4s/step - loss: 0.7739 - accuracy: 0.8950 - val_loss: 9.2742e-07 - val_accuracy: 0.9450\n",
      "Epoch 4/20\n",
      "100/100 [==============================] - 370s 4s/step - loss: 0.5818 - accuracy: 0.9125 - val_loss: 7.9105e-08 - val_accuracy: 0.9480\n",
      "Epoch 5/20\n",
      "100/100 [==============================] - 371s 4s/step - loss: 0.5619 - accuracy: 0.9195 - val_loss: 4.6089e-04 - val_accuracy: 0.9540\n",
      "Epoch 6/20\n",
      "100/100 [==============================] - 388s 4s/step - loss: 0.4661 - accuracy: 0.9265 - val_loss: 0.3077 - val_accuracy: 0.9560\n",
      "Epoch 7/20\n",
      "100/100 [==============================] - 367s 4s/step - loss: 0.3880 - accuracy: 0.9335 - val_loss: 1.5820e-04 - val_accuracy: 0.9560\n",
      "Epoch 8/20\n",
      "100/100 [==============================] - 379s 4s/step - loss: 0.4299 - accuracy: 0.9305 - val_loss: 6.3340e-06 - val_accuracy: 0.9570\n",
      "Epoch 9/20\n",
      "100/100 [==============================] - 399s 4s/step - loss: 0.3875 - accuracy: 0.9445 - val_loss: 0.5192 - val_accuracy: 0.9610\n",
      "Epoch 10/20\n",
      "100/100 [==============================] - 375s 4s/step - loss: 0.3077 - accuracy: 0.9475 - val_loss: 0.0133 - val_accuracy: 0.9620\n",
      "Epoch 11/20\n",
      "100/100 [==============================] - 461s 5s/step - loss: 0.3083 - accuracy: 0.9550 - val_loss: 0.5571 - val_accuracy: 0.9630\n",
      "Epoch 12/20\n",
      "100/100 [==============================] - 373s 4s/step - loss: 0.3207 - accuracy: 0.9450 - val_loss: 2.0389 - val_accuracy: 0.9620\n",
      "Epoch 13/20\n",
      "100/100 [==============================] - 400s 4s/step - loss: 0.3200 - accuracy: 0.9500 - val_loss: 0.5830 - val_accuracy: 0.9620\n",
      "Epoch 14/20\n",
      "100/100 [==============================] - 428s 4s/step - loss: 0.3224 - accuracy: 0.9470 - val_loss: 0.2749 - val_accuracy: 0.9650\n",
      "Epoch 15/20\n",
      "100/100 [==============================] - 531s 5s/step - loss: 0.2558 - accuracy: 0.9550 - val_loss: 0.3271 - val_accuracy: 0.9660\n",
      "Epoch 16/20\n",
      "100/100 [==============================] - 369s 4s/step - loss: 0.3017 - accuracy: 0.9500 - val_loss: 0.6418 - val_accuracy: 0.9650\n",
      "Epoch 17/20\n",
      "100/100 [==============================] - 359s 4s/step - loss: 0.2698 - accuracy: 0.9520 - val_loss: 0.0041 - val_accuracy: 0.9630\n",
      "Epoch 18/20\n",
      "100/100 [==============================] - 368s 4s/step - loss: 0.2283 - accuracy: 0.9555 - val_loss: 1.5485 - val_accuracy: 0.9660\n",
      "Epoch 19/20\n",
      "100/100 [==============================] - 339s 3s/step - loss: 0.2337 - accuracy: 0.9595 - val_loss: 0.6337 - val_accuracy: 0.9680\n",
      "Epoch 20/20\n",
      "100/100 [==============================] - 340s 3s/step - loss: 0.2177 - accuracy: 0.9660 - val_loss: 1.5582 - val_accuracy: 0.9640\n"
     ]
    },
    {
     "data": {
      "text/plain": [
       "<keras.callbacks.callbacks.History at 0x7f9a9469ed50>"
      ]
     },
     "execution_count": 10,
     "metadata": {},
     "output_type": "execute_result"
    }
   ],
   "source": [
    "from keras.optimizers import RMSprop\n",
    "\n",
    "train_datagen=ImageDataGenerator(preprocessing_function=preprocess_input,rotation_range=40,height_shift_range=0.2,width_shift_range=0.2,shear_range=0.2,zoom_range=0.2,fill_mode='nearest')\n",
    "test_datagen=ImageDataGenerator(preprocessing_function=preprocess_input)\n",
    "\n",
    "train_generator=train_datagen.flow_from_directory(train_dir,batch_size=20,target_size=(150,150),class_mode='binary')\n",
    "val_generator=test_datagen.flow_from_directory(validation_dir,batch_size=20,target_size=(150,150),class_mode='binary')\n",
    "\n",
    "model.compile(loss='binary_crossentropy',optimizer=RMSprop(2e-5),metrics=['accuracy'])\n",
    "\n",
    "model.fit_generator(train_generator,steps_per_epoch=100,epochs=20,validation_data=(val_generator),validation_steps=50)"
   ]
  },
  {
   "cell_type": "code",
   "execution_count": null,
   "metadata": {},
   "outputs": [],
   "source": [
    "set_trainable=False\n",
    "for layer in conv_base.layers:\n",
    "    if layer.name=='block5_conv1':\n",
    "        set_trainnable=True\n",
    "    if set_trainable:\n",
    "        layer.trainable=True\n",
    "    else:\n",
    "        layer.trainable=False"
   ]
  }
 ],
 "metadata": {
  "kernelspec": {
   "display_name": "Python 3",
   "language": "python",
   "name": "python3"
  },
  "language_info": {
   "codemirror_mode": {
    "name": "ipython",
    "version": 3
   },
   "file_extension": ".py",
   "mimetype": "text/x-python",
   "name": "python",
   "nbconvert_exporter": "python",
   "pygments_lexer": "ipython3",
   "version": "3.7.4"
  }
 },
 "nbformat": 4,
 "nbformat_minor": 2
}
